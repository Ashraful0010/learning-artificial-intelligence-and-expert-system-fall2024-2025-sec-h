{
 "cells": [
  {
   "cell_type": "markdown",
   "id": "aaa7de85-21c8-4937-9684-efb1483ce59b",
   "metadata": {},
   "source": [
    "print(\"Hello world\")"
   ]
  },
  {
   "cell_type": "code",
   "execution_count": 6,
   "id": "5c5dbf58-b5e4-4cf0-a6f1-747321244cb3",
   "metadata": {},
   "outputs": [
    {
     "name": "stdout",
     "output_type": "stream",
     "text": [
      "Adult\n",
      "Code running perfectly\n"
     ]
    }
   ],
   "source": [
    "# if else\n",
    "age=20\n",
    "\n",
    "if(age>=18):\n",
    "    print(\"Adult\")\n",
    "else:\n",
    "    print(\"Not adult\")\n",
    "print(\"Code running perfectly\")"
   ]
  },
  {
   "cell_type": "code",
   "execution_count": 12,
   "id": "0e99c209-a509-4bd4-b8a8-a794b51334ce",
   "metadata": {},
   "outputs": [
    {
     "name": "stdout",
     "output_type": "stream",
     "text": [
      "F\n"
     ]
    }
   ],
   "source": [
    "marks=60\n",
    "\n",
    "if(marks>=90 and marks<=100):\n",
    "    print(\"A+\")\n",
    "elif(marks>=85 and marks<90):\n",
    "    print(\"A\")\n",
    "else:\n",
    "    print(\"F\")"
   ]
  },
  {
   "cell_type": "code",
   "execution_count": 14,
   "id": "b48b8a8c-843e-4bbf-a396-5a8e8183cd94",
   "metadata": {},
   "outputs": [
    {
     "name": "stdin",
     "output_type": "stream",
     "text": [
      "Please enter the value of a: 10\n",
      "Please enter the value of b: 20\n"
     ]
    },
    {
     "name": "stdout",
     "output_type": "stream",
     "text": [
      "<class 'int'>\n",
      "<class 'int'>\n",
      "Result= 30\n"
     ]
    }
   ],
   "source": [
    "a=int(input(\"Please enter the value of a:\"))\n",
    "b=int(input(\"Please enter the value of b:\"))\n",
    "result=a+b\n",
    "print(type(a))\n",
    "print(type(b))\n",
    "print(\"Result=\",result)"
   ]
  },
  {
   "cell_type": "markdown",
   "id": "4851fdd6-e085-43e5-85ad-4b229b9be62a",
   "metadata": {},
   "source": [
    "## For loop"
   ]
  },
  {
   "cell_type": "code",
   "execution_count": 19,
   "id": "4fb1519b-0d69-445f-add5-b76d06f81cd5",
   "metadata": {},
   "outputs": [
    {
     "name": "stdout",
     "output_type": "stream",
     "text": [
      "0 1 2 3 4 5 6 7 8 9 "
     ]
    }
   ],
   "source": [
    "for i in range(10):\n",
    "    print(i, end=\" \")"
   ]
  },
  {
   "cell_type": "code",
   "execution_count": 21,
   "id": "4eccd667-6420-4100-af0a-c659e0773954",
   "metadata": {},
   "outputs": [
    {
     "name": "stdout",
     "output_type": "stream",
     "text": [
      "5 6 7 8 9 10 "
     ]
    }
   ],
   "source": [
    "for i in range(5,11):\n",
    "    print(i, end=\" \")\n",
    "    "
   ]
  },
  {
   "cell_type": "code",
   "execution_count": 23,
   "id": "5ae354c6-ff20-447b-9cc5-ccdb3261607a",
   "metadata": {},
   "outputs": [
    {
     "name": "stdout",
     "output_type": "stream",
     "text": [
      "100 105 110 115 120 125 130 135 140 145 150 155 160 165 170 175 180 185 190 195 200 "
     ]
    }
   ],
   "source": [
    "for i in range(100,201,5):\n",
    "    print(i, end=\" \")"
   ]
  },
  {
   "cell_type": "markdown",
   "id": "89c824e5-b9e9-4f3c-a899-e9589229cf69",
   "metadata": {},
   "source": [
    "## Break-Continue"
   ]
  },
  {
   "cell_type": "code",
   "execution_count": 26,
   "id": "0ea16a3b-1058-4c0b-8a9c-11e24a23f24d",
   "metadata": {},
   "outputs": [
    {
     "name": "stdout",
     "output_type": "stream",
     "text": [
      "1\n",
      "3\n",
      "5\n",
      "7\n",
      "9\n"
     ]
    }
   ],
   "source": [
    "for i in range(1,11):\n",
    "    if(i%2==0):\n",
    "        continue\n",
    "    print(i)"
   ]
  },
  {
   "cell_type": "code",
   "execution_count": 28,
   "id": "92d8ebc6-1335-4a60-b8b9-c563cc33cbf2",
   "metadata": {},
   "outputs": [
    {
     "name": "stdout",
     "output_type": "stream",
     "text": [
      "1 2 3 4 "
     ]
    }
   ],
   "source": [
    "for i in range(1,11):\n",
    "    if(i>=5):\n",
    "        continue\n",
    "    print(i, end=\" \")"
   ]
  },
  {
   "cell_type": "code",
   "execution_count": 33,
   "id": "b5ea9cf9-4916-4d1b-86a1-35435002a015",
   "metadata": {},
   "outputs": [
    {
     "name": "stdout",
     "output_type": "stream",
     "text": [
      "0 1 2 3 4 5 6 7 8 9 10 "
     ]
    }
   ],
   "source": [
    "i=0\n",
    "while(i<=10):\n",
    "    print(i,end=\" \")\n",
    "    i=i+1"
   ]
  },
  {
   "cell_type": "markdown",
   "id": "d8cc11a4-9125-4ac3-90e6-f8bbb310a87f",
   "metadata": {},
   "source": [
    "## List"
   ]
  },
  {
   "cell_type": "code",
   "execution_count": 31,
   "id": "6e283428-509c-4d82-8548-4585f2ebcd72",
   "metadata": {},
   "outputs": [
    {
     "name": "stdout",
     "output_type": "stream",
     "text": [
      "[10, 20, 30, 40, 50, 60]\n"
     ]
    }
   ],
   "source": [
    "#ADT\n",
    "list=[10,20,30,40,50]\n",
    "list.append(60)\n",
    "print(list)"
   ]
  },
  {
   "cell_type": "code",
   "execution_count": 35,
   "id": "cb449717-dd4a-404c-b779-10f55b863eb8",
   "metadata": {},
   "outputs": [
    {
     "name": "stdout",
     "output_type": "stream",
     "text": [
      "2\n"
     ]
    }
   ],
   "source": [
    "list=[10,20,30,40,10]\n",
    "print(list.count(10))"
   ]
  },
  {
   "cell_type": "code",
   "execution_count": 37,
   "id": "3bd287d1-d4d6-4338-b43e-8c2dd0107e86",
   "metadata": {},
   "outputs": [
    {
     "name": "stdout",
     "output_type": "stream",
     "text": [
      "4\n"
     ]
    }
   ],
   "source": [
    "list1=[1,2,5,2,1,5,1,6,1,3,4]\n",
    "print(list1.count(1))"
   ]
  },
  {
   "cell_type": "code",
   "execution_count": 43,
   "id": "1226c840-e196-41d8-8e1e-f5444766c697",
   "metadata": {},
   "outputs": [
    {
     "name": "stdout",
     "output_type": "stream",
     "text": [
      "[7, 6, 5, 4, 1, 3, 2, 1]\n"
     ]
    }
   ],
   "source": [
    "list=[1,2,3,1,4,5,6,7]\n",
    "list.reverse()\n",
    "print(list)"
   ]
  },
  {
   "cell_type": "code",
   "execution_count": 47,
   "id": "584b4913-b74a-4a3b-9496-56735055bc3f",
   "metadata": {},
   "outputs": [
    {
     "name": "stdout",
     "output_type": "stream",
     "text": [
      "[1, 2, 4, 6, 8, 9]\n"
     ]
    }
   ],
   "source": [
    "list=[1,2,6,4,8,9]\n",
    "list.sort()\n",
    "print(list)"
   ]
  },
  {
   "cell_type": "code",
   "execution_count": 51,
   "id": "811d3d97-b164-43d2-b5f0-553f93463ab0",
   "metadata": {},
   "outputs": [
    {
     "name": "stdout",
     "output_type": "stream",
     "text": [
      "7\n",
      "0 1 2 3 4 5 6 "
     ]
    }
   ],
   "source": [
    "list1=[1,2,36,6,4,9,47]\n",
    "print(len(list1))\n",
    "for i in range(len(list1)):\n",
    "    print(i,end=\" \")"
   ]
  },
  {
   "cell_type": "code",
   "execution_count": 53,
   "id": "60bc1d44-7020-471a-ad53-1cc4f33de78f",
   "metadata": {},
   "outputs": [
    {
     "name": "stdout",
     "output_type": "stream",
     "text": [
      "[3, 4, 5]\n"
     ]
    }
   ],
   "source": [
    "list1=[1,2,3,4,5,6,5,9,7,6,8]\n",
    "print(list1[2:5])"
   ]
  },
  {
   "cell_type": "code",
   "execution_count": 57,
   "id": "f3b9dd23-6b50-4da0-b125-df5cfb267fba",
   "metadata": {},
   "outputs": [
    {
     "name": "stdout",
     "output_type": "stream",
     "text": [
      "[3, 4, 5]\n"
     ]
    }
   ],
   "source": [
    "list1=[1,2,3,4,5,6,5,9,7,6,8]\n",
    "print(list1[2:5])"
   ]
  },
  {
   "cell_type": "code",
   "execution_count": 55,
   "id": "d616b3b2-d72b-4a90-9cac-e410a2cd8b5c",
   "metadata": {},
   "outputs": [
    {
     "name": "stdout",
     "output_type": "stream",
     "text": [
      "5\n"
     ]
    }
   ],
   "source": [
    "list1=[1,2,3,4,5,6,5,9,7,6,8]\n",
    "print(list1[4])"
   ]
  },
  {
   "cell_type": "code",
   "execution_count": 59,
   "id": "fd7f34c8-388e-4637-b9e3-77a3c104e8da",
   "metadata": {},
   "outputs": [
    {
     "name": "stdout",
     "output_type": "stream",
     "text": [
      "[3, 4, 5, 6, 5, 9, 7, 6, 8]\n"
     ]
    }
   ],
   "source": [
    "list1=[1,2,3,4,5,6,5,9,7,6,8]\n",
    "print(list1[2:])"
   ]
  },
  {
   "cell_type": "code",
   "execution_count": 61,
   "id": "bb18f12a-58b8-43c0-ae0c-b0e2d9478ac6",
   "metadata": {},
   "outputs": [
    {
     "name": "stdout",
     "output_type": "stream",
     "text": [
      "[1, 2, 3, 4, 5]\n"
     ]
    }
   ],
   "source": [
    "list1=[1,2,3,4,5,6,5,9,7,6,8]\n",
    "print(list1[:5])"
   ]
  },
  {
   "cell_type": "markdown",
   "id": "45984da9-583e-4fa2-830a-d9edae069c52",
   "metadata": {},
   "source": [
    "## Tuple"
   ]
  },
  {
   "cell_type": "code",
   "execution_count": 65,
   "id": "3df00180-c561-4da9-8a2a-910956a79a54",
   "metadata": {},
   "outputs": [
    {
     "name": "stdout",
     "output_type": "stream",
     "text": [
      "10\n"
     ]
    }
   ],
   "source": [
    "t=(10,20,30,10,40)\n",
    "print(t[0])"
   ]
  },
  {
   "cell_type": "code",
   "execution_count": 67,
   "id": "0dab69f2-b921-40f5-87aa-563b674c4927",
   "metadata": {},
   "outputs": [
    {
     "name": "stdout",
     "output_type": "stream",
     "text": [
      "10\n",
      "20\n",
      "30\n",
      "10\n",
      "40\n"
     ]
    }
   ],
   "source": [
    "t=(10,20,30,10,40)\n",
    "for i in range (len(t)):\n",
    "    print(t[i])"
   ]
  },
  {
   "cell_type": "code",
   "execution_count": 71,
   "id": "c626be22-d161-429a-90fa-b4b541648edf",
   "metadata": {},
   "outputs": [
    {
     "name": "stdout",
     "output_type": "stream",
     "text": [
      "2\n"
     ]
    }
   ],
   "source": [
    "t=(10,20,30,10,40)\n",
    "print(t.count(10))"
   ]
  },
  {
   "cell_type": "markdown",
   "id": "e1dcc843-0130-446d-82ed-712a79753f11",
   "metadata": {},
   "source": [
    "## List of list"
   ]
  },
  {
   "cell_type": "code",
   "execution_count": 84,
   "id": "88ee7d07-35b2-4d75-b683-08c63b7b2d85",
   "metadata": {},
   "outputs": [
    {
     "name": "stdout",
     "output_type": "stream",
     "text": [
      "2 3\n"
     ]
    }
   ],
   "source": [
    "m=[[10,20,30],\n",
    "   [40,50,60]]\n",
    "row=len(m)\n",
    "column=len(m[0])\n",
    "print(row,column)"
   ]
  },
  {
   "cell_type": "code",
   "execution_count": 94,
   "id": "3e876a52-57c2-4f98-8384-c6d0e7397781",
   "metadata": {},
   "outputs": [
    {
     "name": "stdout",
     "output_type": "stream",
     "text": [
      "10 20 30 \n",
      "40 50 60 \n"
     ]
    }
   ],
   "source": [
    "m=[[10,20,30],\n",
    "   [40,50,60]]\n",
    "\n",
    "for i in range (len(m)):\n",
    "    for j in range(len(m[0])):\n",
    "        print(m[i][j],end=\" \")\n",
    "    print()"
   ]
  },
  {
   "cell_type": "code",
   "execution_count": 106,
   "id": "8595db01-a0bd-4d05-8d1c-94b555118fc6",
   "metadata": {},
   "outputs": [
    {
     "name": "stdout",
     "output_type": "stream",
     "text": [
      "[0, 0, 0, 0, 0]\n",
      "[0, 0, 0, 0, 0]\n",
      "[0, 0, 0, 0, 0]\n",
      "[0, 0, 0, 0, 0]\n"
     ]
    }
   ],
   "source": [
    "row=4\n",
    "column=5\n",
    "m=[]\n",
    "for i in range(row):\n",
    "    c=[]\n",
    "    for j in range(column):\n",
    "        c.append(0)\n",
    "    m.append(c)\n",
    "for i in m:\n",
    "    print(i)"
   ]
  },
  {
   "cell_type": "code",
   "execution_count": 120,
   "id": "970407db-1e40-4b5d-be22-22566c4490f7",
   "metadata": {},
   "outputs": [
    {
     "name": "stdin",
     "output_type": "stream",
     "text": [
      "Row: 2\n",
      "Column: 2\n",
      "Data:  1\n",
      "Data:  2\n",
      "Data:  3\n",
      "Data:  4\n"
     ]
    },
    {
     "name": "stdout",
     "output_type": "stream",
     "text": [
      "[1, 2]\n",
      "[3, 4]\n"
     ]
    }
   ],
   "source": [
    "row=int(input(\"Row:\"))\n",
    "column=int(input(\"Column:\"))\n",
    "m=[]\n",
    "for i in range(row):\n",
    "    c=[]\n",
    "    for j in range(column):\n",
    "        value=int(input(\"Data: \"))\n",
    "        c.append(value)\n",
    "    m.append(c)\n",
    "for i in m:\n",
    "    print(i)"
   ]
  },
  {
   "cell_type": "code",
   "execution_count": 140,
   "id": "722cd80e-0af6-43b3-9a73-b0293d7f759b",
   "metadata": {},
   "outputs": [
    {
     "name": "stdout",
     "output_type": "stream",
     "text": [
      "696 706 748 121 656 710 411 112 903 254 645 649 939 161 363 741 904 369 862 308 375 378 469 929 678 73 281 640 452 375 333 679 203 431 205 998 35 833 176 752 91 199 985 965 550 69 410 815 152 464 215 667 84 389 635 872 362 493 183 22 294 734 795 337 644 629 161 749 890 207 365 959 904 105 188 983 89 22 415 940 582 761 916 432 816 688 102 694 512 375 824 491 428 671 417 479 798 175 189 25 "
     ]
    }
   ],
   "source": [
    "import random\n",
    "for i in range(100):\n",
    "    print(random.randint(1,1000),end=\" \")"
   ]
  },
  {
   "cell_type": "code",
   "execution_count": 124,
   "id": "c6603531-caf7-4659-b29a-b6df2663ac46",
   "metadata": {},
   "outputs": [
    {
     "name": "stdout",
     "output_type": "stream",
     "text": [
      "0.881047528986205\n"
     ]
    }
   ],
   "source": [
    "print(random.random())"
   ]
  },
  {
   "cell_type": "code",
   "execution_count": 144,
   "id": "9c846eb0-ef78-4f0c-97da-1674bb8dda6f",
   "metadata": {},
   "outputs": [
    {
     "name": "stdout",
     "output_type": "stream",
     "text": [
      "2 3 1 4 3 6 5 5 2 4 6 3 5 6 5 6 6 6 5 4 1 4 5 1 6 5 6 5 1 2 6 6 4 3 4 5 4 5 2 4 6 4 3 6 6 3 1 2 1 3 2 3 1 3 2 4 5 4 5 1 6 4 1 2 4 1 5 2 5 5 5 5 1 2 3 3 3 6 1 1 6 3 1 3 4 6 2 2 1 3 1 2 6 2 4 5 4 5 2 6 "
     ]
    }
   ],
   "source": [
    "dice=[1,2,3,4,5,6]\n",
    "for i in range (100):\n",
    "    throughDice=random.choice(dice)\n",
    "    print(throughDice,end=\" \")"
   ]
  },
  {
   "cell_type": "code",
   "execution_count": 128,
   "id": "028975ac-27d7-498e-a1ce-018758be050e",
   "metadata": {},
   "outputs": [
    {
     "name": "stdout",
     "output_type": "stream",
     "text": [
      "TGACTTCGCTACGTGAGTTACCTTAGAATACGTTGCTTTCATCTATCACTTGCCTAATCAATTCTGGGGCGGATGGTCATGACTTGGAACGGGTACGTTC\n"
     ]
    }
   ],
   "source": [
    "import random\n",
    "chodon=['A','C','G','T']\n",
    "dna=\"\"\n",
    "for i in range(100):\n",
    "    dna=dna+random.choice(chodon)\n",
    "print(dna)"
   ]
  },
  {
   "cell_type": "code",
   "execution_count": 138,
   "id": "6a1d0d83-a233-42b5-aece-ba2c1f335a36",
   "metadata": {},
   "outputs": [
    {
     "name": "stdout",
     "output_type": "stream",
     "text": [
      "['T', 'T', 'A', 'T', 'T', 'G', 'A', 'C', 'T', 'G', 'C', 'A', 'T', 'G', 'T', 'T', 'T', 'C', 'C', 'C', 'C', 'G', 'G', 'A', 'C', 'C', 'T', 'C', 'G', 'C', 'G', 'A', 'C', 'C', 'A', 'C', 'C', 'T', 'A', 'C', 'G', 'T', 'T', 'A', 'G', 'C', 'G', 'G', 'G', 'G', 'C', 'C', 'C', 'C', 'G', 'T', 'C', 'A', 'C', 'A', 'C', 'A', 'T', 'A', 'T', 'G', 'A', 'C', 'T', 'C', 'T', 'A', 'A', 'G', 'A', 'A', 'C', 'A', 'C', 'C', 'T', 'C', 'T', 'T', 'A', 'C', 'G', 'C', 'C', 'T', 'C', 'A', 'T', 'C', 'G', 'T', 'G', 'A', 'T', 'C']\n",
      "21\n"
     ]
    }
   ],
   "source": [
    "import random\n",
    "chodon=['A','C','G','T']\n",
    "dna=[]\n",
    "for i in range(100):\n",
    "    dna.append(random.choice(chodon))\n",
    "print(dna)\n",
    "print(dna.count('A'))"
   ]
  },
  {
   "cell_type": "code",
   "execution_count": 136,
   "id": "a3701e40-a469-4cf2-b602-827cbf1cd5a8",
   "metadata": {},
   "outputs": [
    {
     "name": "stdout",
     "output_type": "stream",
     "text": [
      "{'A': 32, 'C': 21, 'G': 27, 'T': 20}\n"
     ]
    }
   ],
   "source": [
    "import random\n",
    "chodon=['A','C','G','T']\n",
    "dna=[]\n",
    "for i in range(100):\n",
    "    dna.append(random.choice(chodon))\n",
    "\n",
    "dna_count={}\n",
    "for i in range(len(chodon)):\n",
    "    dna_count[chodon[i]]=dna.count(chodon[i])\n",
    "print(dna_count)"
   ]
  },
  {
   "cell_type": "code",
   "execution_count": 146,
   "id": "b8930ea5-3cf2-4612-b0f0-abadc9468352",
   "metadata": {},
   "outputs": [
    {
     "name": "stdout",
     "output_type": "stream",
     "text": [
      "[5, 5, 5, 7, 6, 7, 5, 5, 5, 5, 1, 7, 2, 4, 6, 1, 1, 1, 3, 3, 4, 1, 7, 2, 3, 1, 2, 3, 6, 3, 5, 6, 1, 4, 5, 3, 4, 6, 2, 7, 1, 3, 3, 6, 5, 3, 3, 1, 3, 6, 1, 6, 7, 3, 5, 4, 6, 2, 5, 1, 3, 4, 3, 5, 6, 3, 7, 1, 1, 1, 6, 7, 2, 5, 4, 2, 6, 3, 4, 2, 7, 4, 3, 1, 5, 5, 7, 2, 6, 2, 7, 7, 6, 6, 4, 5, 1, 2, 1, 2]\n"
     ]
    }
   ],
   "source": [
    "dice=[]\n",
    "for i in range(100):\n",
    "    dice.append(random.randint(1,7))\n",
    "print(dice)\n",
    "    "
   ]
  },
  {
   "cell_type": "markdown",
   "id": "ac0a7d52-db3c-4f45-add1-73282765fcfb",
   "metadata": {},
   "source": [
    "## Function"
   ]
  },
  {
   "cell_type": "code",
   "execution_count": 149,
   "id": "e21783c0-8876-40cb-a7b1-66888132d783",
   "metadata": {},
   "outputs": [
    {
     "name": "stdout",
     "output_type": "stream",
     "text": [
      "20\n"
     ]
    }
   ],
   "source": [
    "def f(x):\n",
    "    return x*2\n",
    "number=10;\n",
    "print(f(number))"
   ]
  },
  {
   "cell_type": "code",
   "execution_count": 153,
   "id": "1561c902-8225-4047-af73-33678c33e2fe",
   "metadata": {},
   "outputs": [
    {
     "name": "stdout",
     "output_type": "stream",
     "text": [
      "30\n",
      "-10\n"
     ]
    }
   ],
   "source": [
    "def f1(x,y):\n",
    "    return x+y,x-y\n",
    "\n",
    "add,sub=f1(10,20)\n",
    "print(add)\n",
    "print(sub)"
   ]
  },
  {
   "cell_type": "code",
   "execution_count": 161,
   "id": "2fcda1ba-4c33-416e-a683-2fd999acd14a",
   "metadata": {},
   "outputs": [
    {
     "name": "stdout",
     "output_type": "stream",
     "text": [
      "300\n",
      "-100\n"
     ]
    }
   ],
   "source": [
    "def f1(x=100,y=200):\n",
    "    return x+y,x-y\n",
    "\n",
    "add,sub=f1()\n",
    "print(add)\n",
    "print(sub)"
   ]
  },
  {
   "cell_type": "code",
   "execution_count": null,
   "id": "609a050d-a7dc-47f1-bf4d-798649364b9e",
   "metadata": {},
   "outputs": [],
   "source": []
  }
 ],
 "metadata": {
  "kernelspec": {
   "display_name": "Python 3 (ipykernel)",
   "language": "python",
   "name": "python3"
  },
  "language_info": {
   "codemirror_mode": {
    "name": "ipython",
    "version": 3
   },
   "file_extension": ".py",
   "mimetype": "text/x-python",
   "name": "python",
   "nbconvert_exporter": "python",
   "pygments_lexer": "ipython3",
   "version": "3.12.4"
  }
 },
 "nbformat": 4,
 "nbformat_minor": 5
}
