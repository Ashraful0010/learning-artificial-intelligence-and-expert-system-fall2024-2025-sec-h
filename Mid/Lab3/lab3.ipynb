{
 "cells": [
  {
   "cell_type": "markdown",
   "id": "6a290c41-3f84-4a50-a0c0-5bd61caf1722",
   "metadata": {},
   "source": [
    "## adj matrix"
   ]
  },
  {
   "cell_type": "code",
   "execution_count": 22,
   "id": "2abe71cc-9665-4313-b2b3-fc62451abd22",
   "metadata": {},
   "outputs": [
    {
     "name": "stdout",
     "output_type": "stream",
     "text": [
      "[0, 0, 0, 0, 0]\n",
      "[0, 0, 0, 0, 0]\n",
      "[0, 0, 0, 0, 0]\n",
      "[0, 0, 0, 0, 0]\n",
      "[0, 0, 0, 0, 0]\n"
     ]
    }
   ],
   "source": [
    "def createMatrix(n):\n",
    "    m=[]\n",
    "    for i in range(n):\n",
    "        c=[]\n",
    "        for j in range(n):\n",
    "            c.append(0)\n",
    "        m.append(c)\n",
    "    return m\n",
    "    \n",
    "def printMatrix(m):\n",
    "    for i in range(len(m)):\n",
    "        print(m[i])\n",
    "        \n",
    "adj_matrix=createMatrix(5)\n",
    "printMatrix(adj_matrix)"
   ]
  },
  {
   "cell_type": "markdown",
   "id": "9ec22842-c370-414a-851a-36a098a94d5e",
   "metadata": {},
   "source": [
    "## Directed graph"
   ]
  },
  {
   "cell_type": "code",
   "execution_count": 56,
   "id": "78c5605b-6426-4f24-bbcf-6b45361549fe",
   "metadata": {},
   "outputs": [
    {
     "name": "stdout",
     "output_type": "stream",
     "text": [
      "\n",
      "[0, 0, 0, 0, 0, 0]\n",
      "[0, 0, 0, 0, 0, 0]\n",
      "[0, 0, 0, 0, 0, 0]\n",
      "[0, 0, 0, 0, 0, 0]\n",
      "[0, 0, 0, 0, 0, 0]\n",
      "[0, 0, 0, 0, 0, 0]\n",
      "\n",
      "[0, 1, 1, 0, 0, 0]\n",
      "[0, 0, 1, 1, 0, 0]\n",
      "[0, 0, 0, 1, 0, 0]\n",
      "[0, 0, 0, 0, 1, 0]\n",
      "[1, 1, 0, 0, 0, 1]\n",
      "[0, 0, 0, 0, 0, 0]\n"
     ]
    }
   ],
   "source": [
    "def createMatrix(n):\n",
    "    m=[]\n",
    "    for i in range(n):\n",
    "        c=[]\n",
    "        for j in range(n):\n",
    "            c.append(0)\n",
    "        m.append(c)\n",
    "    return m\n",
    "    \n",
    "def printMatrix(m):\n",
    "    for i in range(len(m)):\n",
    "        print(m[i])\n",
    "\n",
    "print()\n",
    "\n",
    "f=open(\"graph.txt\",\"r\")\n",
    "line=f.readline()\n",
    "l=line.split()\n",
    "n=int(l[0])\n",
    "m=int(l[1])\n",
    "\n",
    "\n",
    "adj_matrix=createMatrix(n)\n",
    "printMatrix(adj_matrix)\n",
    "\n",
    "print()\n",
    "\n",
    "for i in range(m):\n",
    "    line1=f.readline()\n",
    "    u=int(line1.split()[0])\n",
    "    v=int(line1.split()[1])\n",
    "    adj_matrix[u][v]=1\n",
    "printMatrix(adj_matrix)"
   ]
  },
  {
   "cell_type": "markdown",
   "id": "cde63224-b4a0-4360-8b17-4634906be925",
   "metadata": {},
   "source": [
    "## Undirected graph"
   ]
  },
  {
   "cell_type": "code",
   "execution_count": 58,
   "id": "8b469195-9d4c-42c9-a0b3-ddbc21e626b6",
   "metadata": {},
   "outputs": [
    {
     "name": "stdout",
     "output_type": "stream",
     "text": [
      "\n",
      "[0, 0, 0, 0, 0, 0]\n",
      "[0, 0, 0, 0, 0, 0]\n",
      "[0, 0, 0, 0, 0, 0]\n",
      "[0, 0, 0, 0, 0, 0]\n",
      "[0, 0, 0, 0, 0, 0]\n",
      "[0, 0, 0, 0, 0, 0]\n",
      "\n",
      "[0, 1, 1, 0, 1, 0]\n",
      "[1, 0, 1, 1, 1, 0]\n",
      "[1, 1, 0, 0, 0, 0]\n",
      "[0, 0, 0, 0, 0, 0]\n",
      "[0, 0, 0, 0, 0, 0]\n",
      "[0, 0, 0, 0, 0, 0]\n"
     ]
    }
   ],
   "source": [
    "def createMatrix(n):\n",
    "    m=[]\n",
    "    for i in range(n):\n",
    "        c=[]\n",
    "        for j in range(n):\n",
    "            c.append(0)\n",
    "        m.append(c)\n",
    "    return m\n",
    "    \n",
    "def printMatrix(m):\n",
    "    for i in range(len(m)):\n",
    "        print(m[i])\n",
    "\n",
    "print()\n",
    "\n",
    "f=open(\"unGraph.txt\",\"r\")\n",
    "line=f.readline()\n",
    "l=line.split()\n",
    "n=int(l[0])\n",
    "m=int(l[1])\n",
    "\n",
    "\n",
    "adj_matrix=createMatrix(n)\n",
    "printMatrix(adj_matrix)\n",
    "\n",
    "print()\n",
    "\n",
    "for i in range(m):\n",
    "    line1=f.readline()\n",
    "    u=int(line1.split()[0])\n",
    "    v=int(line1.split()[1])\n",
    "    adj_matrix[u][v]=1\n",
    "    adj_matrix[u][v]=1\n",
    "printMatrix(adj_matrix)"
   ]
  },
  {
   "cell_type": "markdown",
   "id": "0d80efc5-89fa-4910-b414-8f40d621ef3e",
   "metadata": {},
   "source": [
    "## Weighted graph"
   ]
  },
  {
   "cell_type": "code",
   "execution_count": 4,
   "id": "94ec994d-f506-4ca3-a4ed-8693ed761c26",
   "metadata": {},
   "outputs": [
    {
     "name": "stdout",
     "output_type": "stream",
     "text": [
      "\n",
      "[0, 0, 0, 0, 0, 0]\n",
      "[0, 0, 0, 0, 0, 0]\n",
      "[0, 0, 0, 0, 0, 0]\n",
      "[0, 0, 0, 0, 0, 0]\n",
      "[0, 0, 0, 0, 0, 0]\n",
      "[0, 0, 0, 0, 0, 0]\n",
      "\n",
      "[0, 4, 3, 0, 0, 0]\n",
      "[0, 0, 5, 2, 0, 0]\n",
      "[0, 0, 0, 7, 0, 0]\n",
      "[0, 0, 0, 0, 2, 0]\n",
      "[4, 4, 0, 0, 0, 6]\n",
      "[0, 0, 0, 0, 0, 0]\n"
     ]
    }
   ],
   "source": [
    "def createMatrix(n):\n",
    "    m=[]\n",
    "    for i in range(n):\n",
    "        c=[]\n",
    "        for j in range(n):\n",
    "            c.append(0)\n",
    "        m.append(c)\n",
    "    return m\n",
    "    \n",
    "def printMatrix(m):\n",
    "    for i in range(len(m)):\n",
    "        print(m[i])\n",
    "\n",
    "print()\n",
    "\n",
    "f=open(\"wGraph.txt\",\"r\")\n",
    "line=f.readline()\n",
    "l=line.split()\n",
    "n=int(l[0])\n",
    "m=int(l[1])\n",
    "\n",
    "\n",
    "adj_matrix=createMatrix(n)\n",
    "printMatrix(adj_matrix)\n",
    "\n",
    "print()\n",
    "\n",
    "for i in range(m):\n",
    "    line1=f.readline()\n",
    "    u=int(line1.split()[0])\n",
    "    v=int(line1.split()[1])\n",
    "    w=int(line1.split()[2])\n",
    "    adj_matrix[u][v]=w\n",
    "    \n",
    "printMatrix(adj_matrix)"
   ]
  },
  {
   "cell_type": "markdown",
   "id": "7435a0a0-0247-40c7-acb2-f428512db3c9",
   "metadata": {},
   "source": [
    "## Directed list"
   ]
  },
  {
   "cell_type": "code",
   "execution_count": 86,
   "id": "3519e6d5-9d7f-44d6-8d93-17c2094c988f",
   "metadata": {},
   "outputs": [
    {
     "name": "stdout",
     "output_type": "stream",
     "text": [
      "\n",
      "0: []\n",
      "1: []\n",
      "2: []\n",
      "3: []\n",
      "4: []\n",
      "5: []\n",
      "\n",
      "0: [1, 2]\n",
      "1: [2, 3]\n",
      "2: [3]\n",
      "3: [4]\n",
      "4: [0, 1, 5]\n",
      "5: []\n"
     ]
    }
   ],
   "source": [
    "def createList(n):\n",
    "    g={}\n",
    "    for i in range(n):\n",
    "        g[i]=[]\n",
    "    return g\n",
    "    \n",
    "def printList(g):\n",
    "    for i in range(len(g)):\n",
    "        print(i,end=\": \")\n",
    "        print(g[i])\n",
    "              \n",
    "\n",
    "print()\n",
    "\n",
    "f=open(\"graph.txt\",\"r\")\n",
    "line=f.readline()\n",
    "l=line.split()\n",
    "n=int(l[0])\n",
    "m=int(l[1])\n",
    "\n",
    "\n",
    "adj_list=createList(n)\n",
    "printList(adj_list)\n",
    "\n",
    "print()\n",
    "\n",
    "for i in range(m):\n",
    "    line1=f.readline()\n",
    "    u=int(line1.split()[0])\n",
    "    v=int(line1.split()[1])\n",
    "    adj_list[u].append(v)\n",
    "    \n",
    "printList(adj_list)"
   ]
  },
  {
   "cell_type": "markdown",
   "id": "e89407e4-4957-41a5-973b-7bf8ae81b9ae",
   "metadata": {},
   "source": [
    "## Weighted list"
   ]
  },
  {
   "cell_type": "code",
   "execution_count": 102,
   "id": "55ab5e62-a6f7-4284-b67a-72c686dc85dd",
   "metadata": {},
   "outputs": [
    {
     "name": "stdout",
     "output_type": "stream",
     "text": [
      "\n",
      "0: []\n",
      "1: []\n",
      "2: []\n",
      "3: []\n",
      "4: []\n",
      "5: []\n",
      "\n",
      "0: [[1, 4], [2, 3]]\n",
      "1: [[2, 5], [3, 2]]\n",
      "2: [[3, 7]]\n",
      "3: [[4, 2]]\n",
      "4: [[0, 4], [1, 4], [5, 6]]\n",
      "5: []\n"
     ]
    }
   ],
   "source": [
    "def createList(n):\n",
    "    g={}\n",
    "    for i in range(n):\n",
    "        g[i]=[]\n",
    "    return g\n",
    "    \n",
    "def printList(g):\n",
    "    for i in range(len(g)):\n",
    "        print(i,end=\": \")\n",
    "        print(g[i])\n",
    "              \n",
    "\n",
    "print()\n",
    "\n",
    "f=open(\"wGraph.txt\",\"r\")\n",
    "line=f.readline()\n",
    "l=line.split()\n",
    "n=int(l[0])\n",
    "m=int(l[1])\n",
    "\n",
    "\n",
    "adj_list=createList(n)\n",
    "printList(adj_list)\n",
    "\n",
    "print()\n",
    "\n",
    "for i in range(m):\n",
    "    line1=f.readline()\n",
    "    u=int(line1.split()[0])\n",
    "    v=int(line1.split()[1])\n",
    "    w=int(line1.split()[2])\n",
    "    adj_list[u].append([v,w])\n",
    "    \n",
    "printList(adj_list)"
   ]
  },
  {
   "cell_type": "code",
   "execution_count": null,
   "id": "7d8bc859-ce82-4f42-b0a5-492e38566085",
   "metadata": {},
   "outputs": [],
   "source": []
  }
 ],
 "metadata": {
  "kernelspec": {
   "display_name": "Python 3 (ipykernel)",
   "language": "python",
   "name": "python3"
  },
  "language_info": {
   "codemirror_mode": {
    "name": "ipython",
    "version": 3
   },
   "file_extension": ".py",
   "mimetype": "text/x-python",
   "name": "python",
   "nbconvert_exporter": "python",
   "pygments_lexer": "ipython3",
   "version": "3.12.4"
  }
 },
 "nbformat": 4,
 "nbformat_minor": 5
}
