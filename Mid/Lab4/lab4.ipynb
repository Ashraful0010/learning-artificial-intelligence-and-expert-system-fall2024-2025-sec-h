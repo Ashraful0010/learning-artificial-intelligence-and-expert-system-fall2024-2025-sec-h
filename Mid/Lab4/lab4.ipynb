{
 "cells": [
  {
   "cell_type": "markdown",
   "id": "3739efa7-8c5f-4ddb-82f8-52e77ed673b1",
   "metadata": {},
   "source": [
    "## Directed graph using matrix"
   ]
  },
  {
   "cell_type": "code",
   "execution_count": 65,
   "id": "7bd21b82-cb52-42e8-b823-2879cbfac377",
   "metadata": {},
   "outputs": [
    {
     "name": "stdout",
     "output_type": "stream",
     "text": [
      "\n",
      "[0, 1, 1, 0, 0, 0]\n",
      "[0, 0, 1, 1, 0, 0]\n",
      "[0, 0, 0, 1, 0, 0]\n",
      "[0, 0, 0, 0, 1, 0]\n",
      "[1, 1, 0, 0, 0, 1]\n",
      "[0, 0, 0, 0, 0, 0]\n",
      "3\n",
      "3\n"
     ]
    }
   ],
   "source": [
    "def creatMatrix(n):\n",
    "    m=[]\n",
    "    for i in range(n):\n",
    "        c=[]\n",
    "        for j in range(n):\n",
    "            c.append(0)\n",
    "        m.append(c)\n",
    "    return m\n",
    "def printMatrix(m):\n",
    "    for i in m:\n",
    "        print(i)\n",
    "\n",
    "def inDegree(m,v):\n",
    "    c=0\n",
    "    for i in range(len(m[v])):\n",
    "        if m[v][i]==1:\n",
    "            c=c+1\n",
    "    return c\n",
    "\n",
    "def outDegree(m,v):\n",
    "    c=0\n",
    "    for i in range(len(m[v])):\n",
    "        if m[v][i]==1:\n",
    "            c=c+1\n",
    "    return c\n",
    "\n",
    "\n",
    "f=open(\"graph.txt\",\"r\")\n",
    "v_e=f.readline().split()\n",
    "n=int(v_e[0])\n",
    "m=int(v_e[1])\n",
    "\n",
    "matrix=creatMatrix(n)\n",
    "\n",
    "print()\n",
    "\n",
    "for i in range(m):\n",
    "    l=f.readline().split()\n",
    "    u=int(l[0])\n",
    "    v=int(l[1])\n",
    "    matrix[u][v]=1 # for directed\n",
    "    \n",
    "printMatrix(matrix)\n",
    "print(outDegree(matrix,4))\n",
    "print(inDegree(matrix,4))"
   ]
  },
  {
   "cell_type": "markdown",
   "id": "90c833aa-ebe3-481f-b69b-6570437334fe",
   "metadata": {},
   "source": [
    "## Undirected Graph using matrix"
   ]
  },
  {
   "cell_type": "code",
   "execution_count": 59,
   "id": "d4bd2c4d-b116-4bd4-b84c-02c59c5515f5",
   "metadata": {},
   "outputs": [
    {
     "name": "stdout",
     "output_type": "stream",
     "text": [
      "\n",
      "[0, 1, 1, 0, 1, 0]\n",
      "[1, 0, 1, 1, 1, 0]\n",
      "[1, 1, 0, 1, 0, 0]\n",
      "[0, 1, 1, 0, 1, 0]\n",
      "[1, 1, 0, 1, 0, 1]\n",
      "[0, 0, 0, 0, 1, 0]\n",
      "4\n",
      "4\n"
     ]
    }
   ],
   "source": [
    "def creatMatrix(n):\n",
    "    m=[]\n",
    "    for i in range(n):\n",
    "        c=[]\n",
    "        for j in range(n):\n",
    "            c.append(0)\n",
    "        m.append(c)\n",
    "    return m\n",
    "def printMatrix(m):\n",
    "    for i in m:\n",
    "        print(i)\n",
    "\n",
    "def inDegree(m,v):\n",
    "    c=0\n",
    "    for i in range(len(m[v])):\n",
    "        if m[v][i]==1:\n",
    "            c=c+1\n",
    "    return c\n",
    "\n",
    "def outDegree(m,v):\n",
    "    c=0\n",
    "    for i in range(len(m[v])):\n",
    "        if m[v][i]==1:\n",
    "            c=c+1\n",
    "    return c\n",
    "\n",
    "\n",
    "f=open(\"graph.txt\",\"r\")\n",
    "v_e=f.readline().split()\n",
    "n=int(v_e[0])\n",
    "m=int(v_e[1])\n",
    "\n",
    "matrix=creatMatrix(n)\n",
    "\n",
    "print()\n",
    "\n",
    "for i in range(m):\n",
    "    l=f.readline().split()\n",
    "    u=int(l[0])\n",
    "    v=int(l[1])\n",
    "    matrix[u][v]=1\n",
    "    matrix[v][u]=1 # for undirected\n",
    "    \n",
    "printMatrix(matrix)\n",
    "print(outDegree(matrix,4))\n",
    "print(inDegree(matrix,4))"
   ]
  },
  {
   "cell_type": "markdown",
   "id": "3347becf-aa7d-4ff6-863d-a05d01a5fffd",
   "metadata": {},
   "source": [
    "## Weighted Graph"
   ]
  },
  {
   "cell_type": "code",
   "execution_count": 95,
   "id": "dcaff1c5-7e75-48b4-b779-f6857f6edb91",
   "metadata": {},
   "outputs": [
    {
     "name": "stdout",
     "output_type": "stream",
     "text": [
      "\n",
      "[0, 4, 0, 0, 0, 0, 7, 0, 0]\n",
      "[0, 0, 9, 0, 0, 0, 11, 20, 0]\n",
      "[0, 9, 0, 6, 2, 0, 0, 0, 0]\n",
      "[0, 0, 6, 0, 10, 5, 0, 0, 0]\n",
      "[0, 0, 0, 10, 0, 15, 0, 0, 5]\n",
      "[0, 0, 0, 5, 0, 0, 0, 0, 0]\n",
      "[0, 0, 0, 0, 0, 0, 0, 0, 0]\n",
      "[0, 0, 0, 0, 0, 0, 0, 0, 0]\n",
      "[0, 0, 0, 0, 0, 0, 0, 0, 0]\n",
      "\n",
      "Maximum Weight: 20\n"
     ]
    }
   ],
   "source": [
    "def createMatrix(n):\n",
    "    m = []\n",
    "    for i in range(n):\n",
    "        c = []\n",
    "        for j in range(n):\n",
    "            c.append(0)\n",
    "        m.append(c)\n",
    "    return m\n",
    "\n",
    "def printMatrix(m):\n",
    "    for i in range(len(m)):\n",
    "        print(m[i])\n",
    "\n",
    "def getMaxWeight(m):\n",
    "    max_weight = 0\n",
    "    for i in range(len(m)):\n",
    "        for j in range(len(m[i])):\n",
    "            if m[i][j] > max_weight:\n",
    "                max_weight = m[i][j]\n",
    "    return max_weight\n",
    "\n",
    "print()\n",
    "\n",
    "f = open(\"wGraph.txt\", \"r\")\n",
    "line = f.readline()\n",
    "l = line.split()\n",
    "n = int(l[0])\n",
    "m = int(l[1])\n",
    "\n",
    "matrix = createMatrix(n)\n",
    "\n",
    "for i in range(m):\n",
    "    line1 = f.readline()\n",
    "    u = int(line1.split()[0])\n",
    "    v = int(line1.split()[1])\n",
    "    w = int(line1.split()[2])\n",
    "    matrix[u][v] = w\n",
    "\n",
    "printMatrix(matrix)\n",
    "print()\n",
    "print(\"Maximum Weight:\", getMaxWeight(matrix))\n"
   ]
  },
  {
   "cell_type": "markdown",
   "id": "7cb86c8d-73d3-4a8b-88c0-6fac866627ab",
   "metadata": {},
   "source": [
    "## representing list using list"
   ]
  },
  {
   "cell_type": "code",
   "execution_count": 124,
   "id": "56c24d9f-6434-4b67-b9b5-9e48408ede48",
   "metadata": {},
   "outputs": [
    {
     "name": "stdout",
     "output_type": "stream",
     "text": [
      "Out-degree adjacency list:\n",
      "0->[1, 2]\n",
      "1->[2, 3]\n",
      "2->[3]\n",
      "3->[4]\n",
      "4->[0, 1, 5]\n",
      "5->[]\n",
      "\n",
      "In-degree adjacency list:\n",
      "0->[4]\n",
      "1->[0, 4]\n",
      "2->[0, 1]\n",
      "3->[1, 2]\n",
      "4->[3]\n",
      "5->[4]\n"
     ]
    }
   ],
   "source": [
    "def createList(n):\n",
    "    adj={}\n",
    "    for i in range(n):\n",
    "        adj[i]=[]\n",
    "    return adj\n",
    "\n",
    "def printList(adj):\n",
    "    for i in range(len(adj)):\n",
    "        print(i, end=\"->\")\n",
    "        print(adj[i])\n",
    "\n",
    "f = open(\"graph.txt\", \"r\")\n",
    "line = f.readline()\n",
    "l = line.split()\n",
    "n = int(l[0])\n",
    "m = int(l[1])\n",
    "\n",
    "outDegree_List=createList(n)\n",
    "inDegree_List=createList(n)\n",
    "\n",
    "for i in range(m):\n",
    "    l=f.readline().split()\n",
    "    u=int(l[0])\n",
    "    v=int(l[1])\n",
    "    outDegree_List[u].append(v)\n",
    "    inDegree_List[v].append(u)\n",
    "\n",
    "print(\"Out-degree adjacency list:\")\n",
    "printList(outDegree_List)\n",
    "\n",
    "print(\"\\nIn-degree adjacency list:\")\n",
    "printList(inDegree_List)"
   ]
  },
  {
   "cell_type": "markdown",
   "id": "6f380029-a403-4ee8-9d04-2e4009a33d98",
   "metadata": {},
   "source": [
    "## weighted graph using list"
   ]
  },
  {
   "cell_type": "code",
   "execution_count": 141,
   "id": "3e9edd50-0c27-43b4-9c62-53aec7eca5c0",
   "metadata": {},
   "outputs": [
    {
     "name": "stdout",
     "output_type": "stream",
     "text": [
      "\n",
      "Adjacency List with Weights:\n",
      "0 -> [(1, 4), (6, 7)]\n",
      "1 -> [(0, 4), (2, 9), (6, 11), (7, 20), (2, 9)]\n",
      "2 -> [(1, 9), (1, 9), (3, 6), (4, 2), (3, 6)]\n",
      "3 -> [(2, 6), (2, 6), (4, 10), (5, 5), (4, 10), (5, 5)]\n",
      "4 -> [(2, 2), (3, 10), (3, 10), (5, 15), (8, 5)]\n",
      "5 -> [(3, 5), (4, 15), (3, 5)]\n",
      "6 -> [(0, 7), (1, 11)]\n",
      "7 -> [(1, 20)]\n",
      "8 -> [(4, 5)]\n",
      "\n",
      "Maximum weight in the graph: 20\n",
      "Vertex with the maximum weight: 1\n",
      "Edge with the maximum weight: 7\n"
     ]
    }
   ],
   "source": [
    "def createList(n):\n",
    "    adj = {}\n",
    "    for i in range(n):\n",
    "        adj[i] = []\n",
    "    return adj\n",
    "\n",
    "def printList(adj):\n",
    "    for i in range(len(adj)):\n",
    "        print(i, end=\" -> \")\n",
    "        print(adj[i])\n",
    "\n",
    "f = open(\"wGraph.txt\", \"r\")\n",
    "line = f.readline()\n",
    "l = line.split()\n",
    "n = int(l[0])  # number of nodes\n",
    "m = int(l[1])  # number of edges\n",
    "\n",
    "adj_list = createList(n)\n",
    "\n",
    "for i in range(m):\n",
    "    l = f.readline().split()\n",
    "    u = int(l[0])\n",
    "    v = int(l[1])\n",
    "    w = int(l[2])  # weight of the edge\n",
    "    adj_list[u].append((v, w))\n",
    "    adj_list[v].append((u, w))\n",
    "\n",
    "f.close()\n",
    "\n",
    "print(\"\\nAdjacency List with Weights:\")\n",
    "printList(adj_list)\n",
    "print()\n",
    "\n",
    "max_weight = float('-inf')\n",
    "max_vertex = -1\n",
    "max_edge =  -1\n",
    "\n",
    "for u in adj_list:\n",
    "    for v, w in adj_list[u]:\n",
    "        if w > max_weight:\n",
    "            max_weight = w\n",
    "            max_vertex = u\n",
    "            max_edge = v\n",
    "\n",
    "print(\"Maximum weight in the graph:\", max_weight)\n",
    "print(\"Vertex with the maximum weight:\", max_vertex)\n",
    "print(\"Edge with the maximum weight:\", max_edge)"
   ]
  },
  {
   "cell_type": "markdown",
   "id": "e982c41f-25a5-40a9-8dcb-0198e881b0b1",
   "metadata": {},
   "source": [
    "## QUEUE"
   ]
  },
  {
   "cell_type": "code",
   "execution_count": 4,
   "id": "0cbbedac-619c-4132-9b16-0e20b4ad8b13",
   "metadata": {},
   "outputs": [
    {
     "name": "stdout",
     "output_type": "stream",
     "text": [
      "10\n",
      "20\n",
      "30\n"
     ]
    }
   ],
   "source": [
    "import queue\n",
    "\n",
    "q=queue.Queue()\n",
    "q.put(10)\n",
    "q.put(20)\n",
    "q.put(30)\n",
    "\n",
    "while not q.empty():\n",
    "    print(q.get())"
   ]
  },
  {
   "cell_type": "markdown",
   "id": "69cd160a-6794-4a97-a13c-3927fc53dae5",
   "metadata": {},
   "source": [
    "## Stack"
   ]
  },
  {
   "cell_type": "code",
   "execution_count": 2,
   "id": "a8a0eb1a-1654-4f5d-8486-38e19e33efe2",
   "metadata": {},
   "outputs": [
    {
     "name": "stdout",
     "output_type": "stream",
     "text": [
      "30\n",
      "20\n",
      "10\n"
     ]
    }
   ],
   "source": [
    "import queue\n",
    "\n",
    "s=queue.LifoQueue()\n",
    "s.put(10)\n",
    "s.put(20)\n",
    "s.put(30)\n",
    "\n",
    "while not s.empty():\n",
    "    print(s.get())"
   ]
  },
  {
   "cell_type": "markdown",
   "id": "8ff3e203-1e35-46bb-bbe1-13217bae305d",
   "metadata": {},
   "source": [
    "## Priority Queue"
   ]
  },
  {
   "cell_type": "code",
   "execution_count": 8,
   "id": "7941455e-6c3d-4420-beb1-d7c157782a34",
   "metadata": {},
   "outputs": [
    {
     "name": "stdout",
     "output_type": "stream",
     "text": [
      "(20, 'Ashraful')\n",
      "(40, 'AIUB')\n",
      "(100, 'Opu')\n"
     ]
    }
   ],
   "source": [
    "import queue\n",
    "\n",
    "pq=queue.PriorityQueue()\n",
    "pq.put((100,\"Opu\"))\n",
    "pq.put((20,\"Ashraful\"))\n",
    "pq.put((40, \"AIUB\"))\n",
    "\n",
    "while not pq.empty():\n",
    "    print(pq.get())"
   ]
  },
  {
   "cell_type": "code",
   "execution_count": null,
   "id": "5dde00b9-4433-4fa3-baac-0ec957fa04dc",
   "metadata": {},
   "outputs": [],
   "source": []
  }
 ],
 "metadata": {
  "kernelspec": {
   "display_name": "Python 3 (ipykernel)",
   "language": "python",
   "name": "python3"
  },
  "language_info": {
   "codemirror_mode": {
    "name": "ipython",
    "version": 3
   },
   "file_extension": ".py",
   "mimetype": "text/x-python",
   "name": "python",
   "nbconvert_exporter": "python",
   "pygments_lexer": "ipython3",
   "version": "3.12.4"
  }
 },
 "nbformat": 4,
 "nbformat_minor": 5
}
