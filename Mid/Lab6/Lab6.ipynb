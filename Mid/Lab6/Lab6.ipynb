{
 "cells": [
  {
   "cell_type": "markdown",
   "id": "4cd23ccc-41d1-49f7-ad36-489b4d7d32fd",
   "metadata": {},
   "source": [
    "## Weighted Graph"
   ]
  },
  {
   "cell_type": "code",
   "execution_count": 19,
   "id": "64c0d8ef-fc7f-49db-a93a-6aafe1613c8e",
   "metadata": {},
   "outputs": [
    {
     "name": "stdout",
     "output_type": "stream",
     "text": [
      "\n",
      "[0, 999, 999, 999, 999, 999]\n",
      "[999, 0, 999, 999, 999, 999]\n",
      "[999, 999, 0, 999, 999, 999]\n",
      "[999, 999, 999, 0, 999, 999]\n",
      "[999, 999, 999, 999, 0, 999]\n",
      "[999, 999, 999, 999, 999, 0]\n",
      "\n",
      "[0, 4, 3, 999, 4, 999]\n",
      "[4, 0, 5, 2, 4, 999]\n",
      "[3, 5, 0, 7, 999, 999]\n",
      "[999, 2, 7, 0, 2, 999]\n",
      "[4, 4, 999, 2, 0, 6]\n",
      "[999, 999, 999, 999, 6, 0]\n"
     ]
    }
   ],
   "source": [
    "def createMatrix(n):\n",
    "    m=[]\n",
    "    for i in range(n):\n",
    "        c=[]\n",
    "        for j in range(n):\n",
    "            if i==j:\n",
    "                c.append(0)\n",
    "            else:\n",
    "                c.append(999)\n",
    "        m.append(c)\n",
    "    return m\n",
    "   \n",
    "def printMatrix(m):\n",
    "    for i in range(len(m)):\n",
    "        print(m[i])\n",
    " \n",
    "print()\n",
    " \n",
    "f=open(\"wgraph.txt\",\"r\")\n",
    "line=f.readline()\n",
    "l=line.split()\n",
    "n=int(l[0])\n",
    "m=int(l[1])\n",
    " \n",
    " \n",
    "adj_matrix=createMatrix(n)\n",
    "printMatrix(adj_matrix)\n",
    " \n",
    "print()\n",
    " \n",
    "for i in range(m):\n",
    "    l=f.readline().split()\n",
    "    u=int(l[0])\n",
    "    v=int(l[1])\n",
    "    w=int(l[2])\n",
    "    adj_matrix[u][v]=w\n",
    "    adj_matrix[v][u]=w\n",
    " \n",
    "   \n",
    "printMatrix(adj_matrix)"
   ]
  },
  {
   "cell_type": "markdown",
   "id": "f1b44355-8e55-4a12-a7d6-59e15d130e89",
   "metadata": {},
   "source": [
    "## UCS"
   ]
  },
  {
   "cell_type": "code",
   "execution_count": null,
   "id": "8ed5b9ea-f71d-431f-a761-d1231814111e",
   "metadata": {},
   "outputs": [
    {
     "name": "stdout",
     "output_type": "stream",
     "text": [
      "\n",
      "[0, 999, 999, 999, 999, 999]\n",
      "[999, 0, 999, 999, 999, 999]\n",
      "[999, 999, 0, 999, 999, 999]\n",
      "[999, 999, 999, 0, 999, 999]\n",
      "[999, 999, 999, 999, 0, 999]\n",
      "[999, 999, 999, 999, 999, 0]\n"
     ]
    }
   ],
   "source": [
    "def createMatrix(n):\n",
    "    m=[]\n",
    "    for i in range(n):\n",
    "        c=[]\n",
    "        for j in range(n):\n",
    "            if i==j:\n",
    "                c.append(0)\n",
    "            else:\n",
    "                c.append(999)\n",
    "        m.append(c)\n",
    "    return m\n",
    "   \n",
    "def printMatrix(m):\n",
    "    for i in range(len(m)):\n",
    "        print(m[i])\n",
    " \n",
    "print()\n",
    " \n",
    "f=open(\"wgraph.txt\",\"r\")\n",
    "line=f.readline()\n",
    "l=line.split()\n",
    "n=int(l[0])\n",
    "m=int(l[1])\n",
    " \n",
    " \n",
    "matrix=createMatrix(n)\n",
    "printMatrix(matrix)\n",
    " \n",
    "\n",
    "import queue\n",
    "\n",
    "def ucs(G,s,n,goal):\n",
    "    q=queue.PriorityQueue()\n",
    "    visited=[0]*n\n",
    "    q.put((0,s))\n",
    "    while q:\n",
    "       gn, node=q.get()\n",
    "    if (node == goal):\n",
    "            return gn\n",
    "    while visited[node]==0:\n",
    "        visited[node]=1\n",
    "        for i in range(n):\n",
    "         if G[node][i]!= 9999 and G[node][i]!=0 and visited [i]:\n",
    "            visited[i]=1\n",
    "            q.put((gn+G[node][i],i))\n",
    "        \n",
    "c=ucs(matrix,0,n,3)\n",
    "print(c)"
   ]
  },
  {
   "cell_type": "markdown",
   "id": "f1a425aa-4fa0-45ff-9e19-3dbb5b858df0",
   "metadata": {},
   "source": [
    "## List"
   ]
  },
  {
   "cell_type": "code",
   "execution_count": null,
   "id": "5d41132a-f17e-48c9-b72a-d2e028fc612a",
   "metadata": {},
   "outputs": [],
   "source": [
    "def createlist(n):\n",
    "    adj = {}\n",
    "    for i in range(n):\n",
    "        adj[i] = []\n",
    "    return adj\n",
    " \n",
    "def printList(adj):\n",
    "    for i in adj:\n",
    "        print(i, end=\"->\")\n",
    "        print(adj[i])\n",
    " \n",
    "f=open(\"weightedGraph.txt\",\"r\")\n",
    "v_e = f.readline().split()\n",
    "n = int(v_e[0])\n",
    "m = int(v_e[1])\n",
    " \n",
    "adj_List = createlist(n)\n",
    "\n",
    " \n",
    "for i in range(m):\n",
    "    l = f.readline().split()\n",
    "    u = int(l[0])\n",
    "    v = int(l[1])\n",
    "    w = int(l[2])  \n",
    "    adj_List[u].append((v, w))\n",
    "    adj_List[v].append((u, w))  \n",
    " \n",
    "printList(adj_List)\n",
    "print()"
   ]
  }
 ],
 "metadata": {
  "kernelspec": {
   "display_name": "Python 3 (ipykernel)",
   "language": "python",
   "name": "python3"
  },
  "language_info": {
   "codemirror_mode": {
    "name": "ipython",
    "version": 3
   },
   "file_extension": ".py",
   "mimetype": "text/x-python",
   "name": "python",
   "nbconvert_exporter": "python",
   "pygments_lexer": "ipython3",
   "version": "3.12.4"
  }
 },
 "nbformat": 4,
 "nbformat_minor": 5
}
